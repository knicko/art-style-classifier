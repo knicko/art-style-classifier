{
 "cells": [
  {
   "cell_type": "markdown",
   "id": "8afd43f6",
   "metadata": {},
   "source": [
    "# Data Collection"
   ]
  },
  {
   "cell_type": "markdown",
   "id": "02e08d8c",
   "metadata": {},
   "source": [
    "> In this notebook we will be blah blah blah"
   ]
  },
  {
   "cell_type": "markdown",
   "id": "d24ba435",
   "metadata": {},
   "source": [
    "---"
   ]
  },
  {
   "cell_type": "markdown",
   "id": "73d4a623",
   "metadata": {},
   "source": [
    "## Imports"
   ]
  },
  {
   "cell_type": "code",
   "execution_count": 8,
   "id": "3202dbba",
   "metadata": {},
   "outputs": [],
   "source": [
    "import pandas as pd"
   ]
  },
  {
   "cell_type": "markdown",
   "id": "bc8a565c",
   "metadata": {},
   "source": [
    "## Reading in Data"
   ]
  },
  {
   "cell_type": "markdown",
   "id": "900d1f60",
   "metadata": {},
   "source": [
    "> We found this data in place and looks to be useful because blah blah blah"
   ]
  },
  {
   "cell_type": "code",
   "execution_count": 9,
   "id": "358cb678",
   "metadata": {},
   "outputs": [
    {
     "data": {
      "text/html": [
       "<div>\n",
       "<style scoped>\n",
       "    .dataframe tbody tr th:only-of-type {\n",
       "        vertical-align: middle;\n",
       "    }\n",
       "\n",
       "    .dataframe tbody tr th {\n",
       "        vertical-align: top;\n",
       "    }\n",
       "\n",
       "    .dataframe thead th {\n",
       "        text-align: right;\n",
       "    }\n",
       "</style>\n",
       "<table border=\"1\" class=\"dataframe\">\n",
       "  <thead>\n",
       "    <tr style=\"text-align: right;\">\n",
       "      <th></th>\n",
       "      <th>Style</th>\n",
       "      <th>Artwork</th>\n",
       "      <th>Artist</th>\n",
       "      <th>Date</th>\n",
       "      <th>Link</th>\n",
       "    </tr>\n",
       "  </thead>\n",
       "  <tbody>\n",
       "    <tr>\n",
       "      <th>0</th>\n",
       "      <td>Early-Dynastic</td>\n",
       "      <td>Narmer Palette</td>\n",
       "      <td>Ancient Egypt</td>\n",
       "      <td>3050 BC</td>\n",
       "      <td>https://uploads3.wikiart.org/00265/images/anci...</td>\n",
       "    </tr>\n",
       "    <tr>\n",
       "      <th>1</th>\n",
       "      <td>Early-Dynastic</td>\n",
       "      <td>Box Inlay with a Geometric Pattern</td>\n",
       "      <td>Ancient Egypt</td>\n",
       "      <td>3100-2900 BC</td>\n",
       "      <td>https://uploads2.wikiart.org/00244/images/anci...</td>\n",
       "    </tr>\n",
       "    <tr>\n",
       "      <th>2</th>\n",
       "      <td>Old-Kingdom</td>\n",
       "      <td>Khafre Enthroned</td>\n",
       "      <td>Ancient Egypt</td>\n",
       "      <td>2570 BC</td>\n",
       "      <td>https://uploads2.wikiart.org/00305/images/anci...</td>\n",
       "    </tr>\n",
       "    <tr>\n",
       "      <th>3</th>\n",
       "      <td>Middle-Kingdom</td>\n",
       "      <td>Stele of the Serpent King (Stela of Djet)</td>\n",
       "      <td>Ancient Egypt</td>\n",
       "      <td>3000 BC</td>\n",
       "      <td>https://uploads7.wikiart.org/00305/images/anci...</td>\n",
       "    </tr>\n",
       "    <tr>\n",
       "      <th>4</th>\n",
       "      <td>Middle-Kingdom</td>\n",
       "      <td>Laden Donkeys and Ploughing, Tomb of Djar</td>\n",
       "      <td>Ancient Egypt</td>\n",
       "      <td>2060-2010 BC</td>\n",
       "      <td>https://uploads8.wikiart.org/00244/images/anci...</td>\n",
       "    </tr>\n",
       "    <tr>\n",
       "      <th>...</th>\n",
       "      <td>...</td>\n",
       "      <td>...</td>\n",
       "      <td>...</td>\n",
       "      <td>...</td>\n",
       "      <td>...</td>\n",
       "    </tr>\n",
       "    <tr>\n",
       "      <th>124165</th>\n",
       "      <td>Street-Photography</td>\n",
       "      <td>Portrait of the corn stalk</td>\n",
       "      <td>Alfred Freddy Krupa</td>\n",
       "      <td>2019</td>\n",
       "      <td>https://uploads5.wikiart.org/00241/images/alfr...</td>\n",
       "    </tr>\n",
       "    <tr>\n",
       "      <th>124166</th>\n",
       "      <td>Street-Photography</td>\n",
       "      <td>The other side of life</td>\n",
       "      <td>Alfred Freddy Krupa</td>\n",
       "      <td>2019</td>\n",
       "      <td>https://uploads7.wikiart.org/00241/images/alfr...</td>\n",
       "    </tr>\n",
       "    <tr>\n",
       "      <th>124167</th>\n",
       "      <td>Street-Photography</td>\n",
       "      <td>The bonfire during construction</td>\n",
       "      <td>Alfred Freddy Krupa</td>\n",
       "      <td>2019</td>\n",
       "      <td>https://uploads7.wikiart.org/00242/images/alfr...</td>\n",
       "    </tr>\n",
       "    <tr>\n",
       "      <th>124168</th>\n",
       "      <td>Street-Photography</td>\n",
       "      <td>Limpidity</td>\n",
       "      <td>Alfred Freddy Krupa</td>\n",
       "      <td>2019</td>\n",
       "      <td>https://uploads7.wikiart.org/00248/images/alfr...</td>\n",
       "    </tr>\n",
       "    <tr>\n",
       "      <th>124169</th>\n",
       "      <td>Street-Photography</td>\n",
       "      <td>My daughter Eleonora and nephew Noa watch fire...</td>\n",
       "      <td>Alfred Freddy Krupa</td>\n",
       "      <td>2020</td>\n",
       "      <td>https://uploads5.wikiart.org/00298/images/alfr...</td>\n",
       "    </tr>\n",
       "  </tbody>\n",
       "</table>\n",
       "<p>124170 rows × 5 columns</p>\n",
       "</div>"
      ],
      "text/plain": [
       "                     Style                                            Artwork  \\\n",
       "0           Early-Dynastic                                     Narmer Palette   \n",
       "1           Early-Dynastic                 Box Inlay with a Geometric Pattern   \n",
       "2              Old-Kingdom                                   Khafre Enthroned   \n",
       "3           Middle-Kingdom          Stele of the Serpent King (Stela of Djet)   \n",
       "4           Middle-Kingdom          Laden Donkeys and Ploughing, Tomb of Djar   \n",
       "...                    ...                                                ...   \n",
       "124165  Street-Photography                         Portrait of the corn stalk   \n",
       "124166  Street-Photography                             The other side of life   \n",
       "124167  Street-Photography                    The bonfire during construction   \n",
       "124168  Street-Photography                                          Limpidity   \n",
       "124169  Street-Photography  My daughter Eleonora and nephew Noa watch fire...   \n",
       "\n",
       "                     Artist          Date  \\\n",
       "0             Ancient Egypt       3050 BC   \n",
       "1             Ancient Egypt  3100-2900 BC   \n",
       "2             Ancient Egypt       2570 BC   \n",
       "3             Ancient Egypt       3000 BC   \n",
       "4             Ancient Egypt  2060-2010 BC   \n",
       "...                     ...           ...   \n",
       "124165  Alfred Freddy Krupa          2019   \n",
       "124166  Alfred Freddy Krupa          2019   \n",
       "124167  Alfred Freddy Krupa          2019   \n",
       "124168  Alfred Freddy Krupa          2019   \n",
       "124169  Alfred Freddy Krupa          2020   \n",
       "\n",
       "                                                     Link  \n",
       "0       https://uploads3.wikiart.org/00265/images/anci...  \n",
       "1       https://uploads2.wikiart.org/00244/images/anci...  \n",
       "2       https://uploads2.wikiart.org/00305/images/anci...  \n",
       "3       https://uploads7.wikiart.org/00305/images/anci...  \n",
       "4       https://uploads8.wikiart.org/00244/images/anci...  \n",
       "...                                                   ...  \n",
       "124165  https://uploads5.wikiart.org/00241/images/alfr...  \n",
       "124166  https://uploads7.wikiart.org/00241/images/alfr...  \n",
       "124167  https://uploads7.wikiart.org/00242/images/alfr...  \n",
       "124168  https://uploads7.wikiart.org/00248/images/alfr...  \n",
       "124169  https://uploads5.wikiart.org/00298/images/alfr...  \n",
       "\n",
       "[124170 rows x 5 columns]"
      ]
     },
     "execution_count": 9,
     "metadata": {},
     "output_type": "execute_result"
    }
   ],
   "source": [
    "df = pd.read_csv('../data/wikiart_scraped.csv')\n",
    "df"
   ]
  },
  {
   "cell_type": "markdown",
   "id": "da15cae3",
   "metadata": {},
   "source": [
    "## Saving Collected Data"
   ]
  },
  {
   "cell_type": "markdown",
   "id": "91797e6b",
   "metadata": {},
   "source": [
    "> This data is being saved to blah blah to be later cleaned in `02_Data_Cleaning`.  "
   ]
  },
  {
   "cell_type": "code",
   "execution_count": 10,
   "id": "816fa3b5",
   "metadata": {},
   "outputs": [],
   "source": [
    "df.to_csv('../data/wikiart_scraped.csv', index = False)"
   ]
  }
 ],
 "metadata": {
  "kernelspec": {
   "display_name": "Python 3 (ipykernel)",
   "language": "python",
   "name": "python3"
  },
  "language_info": {
   "codemirror_mode": {
    "name": "ipython",
    "version": 3
   },
   "file_extension": ".py",
   "mimetype": "text/x-python",
   "name": "python",
   "nbconvert_exporter": "python",
   "pygments_lexer": "ipython3",
   "version": "3.9.13"
  }
 },
 "nbformat": 4,
 "nbformat_minor": 5
}
