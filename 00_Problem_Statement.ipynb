{
 "cells": [
  {
   "cell_type": "markdown",
   "id": "06901a02",
   "metadata": {},
   "source": [
    "# Problem Statement"
   ]
  },
  {
   "cell_type": "markdown",
   "id": "297ccb0e",
   "metadata": {},
   "source": [
    "> In this notebook we will be discussing the problem we will be solving, why it is a problem, who this can help, and what our measures fo success will be. This will be the reoccuring topic and goal throughout these notebooks."
   ]
  },
  {
   "cell_type": "code",
   "execution_count": null,
   "id": "c115b048",
   "metadata": {},
   "outputs": [],
   "source": []
  }
 ],
 "metadata": {
  "kernelspec": {
   "display_name": "Python 3 (ipykernel)",
   "language": "python",
   "name": "python3"
  },
  "language_info": {
   "codemirror_mode": {
    "name": "ipython",
    "version": 3
   },
   "file_extension": ".py",
   "mimetype": "text/x-python",
   "name": "python",
   "nbconvert_exporter": "python",
   "pygments_lexer": "ipython3",
   "version": "3.9.13"
  }
 },
 "nbformat": 4,
 "nbformat_minor": 5
}
