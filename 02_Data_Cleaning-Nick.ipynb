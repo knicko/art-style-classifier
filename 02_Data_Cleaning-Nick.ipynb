{
 "cells": [
  {
   "cell_type": "markdown",
   "id": "5fdab76b",
   "metadata": {},
   "source": [
    "# Data Cleaning"
   ]
  },
  {
   "cell_type": "markdown",
   "id": "eaa2c01b",
   "metadata": {},
   "source": [
    "> In this notebook we will be blah blah blah"
   ]
  },
  {
   "cell_type": "markdown",
   "id": "33a59938",
   "metadata": {},
   "source": [
    "---"
   ]
  },
  {
   "cell_type": "markdown",
   "id": "eb4ded85",
   "metadata": {},
   "source": [
    "## Imports"
   ]
  },
  {
   "cell_type": "code",
   "execution_count": 1,
   "id": "21490573",
   "metadata": {},
   "outputs": [],
   "source": [
    "import numpy as np\n",
    "import pandas as pd\n",
    "\n",
    "import langid\n",
    "import requests\n",
    "import googletrans\n",
    "import copy\n",
    "import urllib\n",
    "import os\n",
    "import io\n",
    "import sys\n",
    "import re\n",
    "\n",
    "if sys.version_info < (3, 0):\n",
    "    from urllib2 import urlopen\n",
    "else:\n",
    "    from urllib.request import urlopen\n",
    "\n",
    "from googletrans import Translator\n",
    "from colorthief import ColorThief\n",
    "\n",
    "pd.set_option('max_colwidth', 100)"
   ]
  },
  {
   "cell_type": "markdown",
   "id": "cbe7ab0c",
   "metadata": {},
   "source": [
    "---"
   ]
  },
  {
   "cell_type": "markdown",
   "id": "b751064b",
   "metadata": {},
   "source": [
    "## Reading in Data"
   ]
  },
  {
   "cell_type": "code",
   "execution_count": 133,
   "id": "13408611",
   "metadata": {},
   "outputs": [
    {
     "data": {
      "text/html": [
       "<div>\n",
       "<style scoped>\n",
       "    .dataframe tbody tr th:only-of-type {\n",
       "        vertical-align: middle;\n",
       "    }\n",
       "\n",
       "    .dataframe tbody tr th {\n",
       "        vertical-align: top;\n",
       "    }\n",
       "\n",
       "    .dataframe thead th {\n",
       "        text-align: right;\n",
       "    }\n",
       "</style>\n",
       "<table border=\"1\" class=\"dataframe\">\n",
       "  <thead>\n",
       "    <tr style=\"text-align: right;\">\n",
       "      <th></th>\n",
       "      <th>Style</th>\n",
       "      <th>Artwork</th>\n",
       "      <th>Artist</th>\n",
       "      <th>Date</th>\n",
       "      <th>Link</th>\n",
       "    </tr>\n",
       "  </thead>\n",
       "  <tbody>\n",
       "    <tr>\n",
       "      <th>0</th>\n",
       "      <td>Early-Dynastic</td>\n",
       "      <td>Narmer Palette</td>\n",
       "      <td>Ancient Egypt</td>\n",
       "      <td>3050 BC</td>\n",
       "      <td>https://uploads3.wikiart.org/00265/images/ancient-egyptian-painting/narmer-palette.jpg</td>\n",
       "    </tr>\n",
       "    <tr>\n",
       "      <th>1</th>\n",
       "      <td>Early-Dynastic</td>\n",
       "      <td>Box Inlay with a Geometric Pattern</td>\n",
       "      <td>Ancient Egypt</td>\n",
       "      <td>3100-2900 BC</td>\n",
       "      <td>https://uploads2.wikiart.org/00244/images/ancient-egyptian-painting/box-inlay-with-a-geometric-p...</td>\n",
       "    </tr>\n",
       "    <tr>\n",
       "      <th>2</th>\n",
       "      <td>Old-Kingdom</td>\n",
       "      <td>Khafre Enthroned</td>\n",
       "      <td>Ancient Egypt</td>\n",
       "      <td>2570 BC</td>\n",
       "      <td>https://uploads2.wikiart.org/00305/images/ancient-egyptian-painting/330px-khafre-statue.jpg</td>\n",
       "    </tr>\n",
       "    <tr>\n",
       "      <th>3</th>\n",
       "      <td>Middle-Kingdom</td>\n",
       "      <td>Stele of the Serpent King (Stela of Djet)</td>\n",
       "      <td>Ancient Egypt</td>\n",
       "      <td>3000 BC</td>\n",
       "      <td>https://uploads7.wikiart.org/00305/images/ancient-egyptian-painting/louvre-stele-roi-serpent.jpg</td>\n",
       "    </tr>\n",
       "    <tr>\n",
       "      <th>4</th>\n",
       "      <td>Middle-Kingdom</td>\n",
       "      <td>Laden Donkeys and Ploughing, Tomb of Djar</td>\n",
       "      <td>Ancient Egypt</td>\n",
       "      <td>2060-2010 BC</td>\n",
       "      <td>https://uploads8.wikiart.org/00244/images/ancient-egyptian-painting/laden-donkeys-and-ploughing-...</td>\n",
       "    </tr>\n",
       "    <tr>\n",
       "      <th>...</th>\n",
       "      <td>...</td>\n",
       "      <td>...</td>\n",
       "      <td>...</td>\n",
       "      <td>...</td>\n",
       "      <td>...</td>\n",
       "    </tr>\n",
       "    <tr>\n",
       "      <th>124165</th>\n",
       "      <td>Street-Photography</td>\n",
       "      <td>Portrait of the corn stalk</td>\n",
       "      <td>Alfred Freddy Krupa</td>\n",
       "      <td>2019</td>\n",
       "      <td>https://uploads5.wikiart.org/00241/images/alfred-freddy-krupa/wp-20190217-004.jpg</td>\n",
       "    </tr>\n",
       "    <tr>\n",
       "      <th>124166</th>\n",
       "      <td>Street-Photography</td>\n",
       "      <td>The other side of life</td>\n",
       "      <td>Alfred Freddy Krupa</td>\n",
       "      <td>2019</td>\n",
       "      <td>https://uploads7.wikiart.org/00241/images/alfred-freddy-krupa/wp-20190620-004-1.jpg</td>\n",
       "    </tr>\n",
       "    <tr>\n",
       "      <th>124167</th>\n",
       "      <td>Street-Photography</td>\n",
       "      <td>The bonfire during construction</td>\n",
       "      <td>Alfred Freddy Krupa</td>\n",
       "      <td>2019</td>\n",
       "      <td>https://uploads7.wikiart.org/00242/images/alfred-freddy-krupa/wp-20190618-002-1.jpg</td>\n",
       "    </tr>\n",
       "    <tr>\n",
       "      <th>124168</th>\n",
       "      <td>Street-Photography</td>\n",
       "      <td>Limpidity</td>\n",
       "      <td>Alfred Freddy Krupa</td>\n",
       "      <td>2019</td>\n",
       "      <td>https://uploads7.wikiart.org/00248/images/alfred-freddy-krupa/wp-20190805-002-1.jpg</td>\n",
       "    </tr>\n",
       "    <tr>\n",
       "      <th>124169</th>\n",
       "      <td>Street-Photography</td>\n",
       "      <td>My daughter Eleonora and nephew Noa watch fireworks during midsummer bonfires</td>\n",
       "      <td>Alfred Freddy Krupa</td>\n",
       "      <td>2020</td>\n",
       "      <td>https://uploads5.wikiart.org/00298/images/alfred-freddy-krupa/img-20200623-210532.jpg</td>\n",
       "    </tr>\n",
       "  </tbody>\n",
       "</table>\n",
       "<p>124170 rows × 5 columns</p>\n",
       "</div>"
      ],
      "text/plain": [
       "                     Style  \\\n",
       "0           Early-Dynastic   \n",
       "1           Early-Dynastic   \n",
       "2              Old-Kingdom   \n",
       "3           Middle-Kingdom   \n",
       "4           Middle-Kingdom   \n",
       "...                    ...   \n",
       "124165  Street-Photography   \n",
       "124166  Street-Photography   \n",
       "124167  Street-Photography   \n",
       "124168  Street-Photography   \n",
       "124169  Street-Photography   \n",
       "\n",
       "                                                                              Artwork  \\\n",
       "0                                                                      Narmer Palette   \n",
       "1                                                  Box Inlay with a Geometric Pattern   \n",
       "2                                                                    Khafre Enthroned   \n",
       "3                                           Stele of the Serpent King (Stela of Djet)   \n",
       "4                                           Laden Donkeys and Ploughing, Tomb of Djar   \n",
       "...                                                                               ...   \n",
       "124165                                                     Portrait of the corn stalk   \n",
       "124166                                                         The other side of life   \n",
       "124167                                                The bonfire during construction   \n",
       "124168                                                                      Limpidity   \n",
       "124169  My daughter Eleonora and nephew Noa watch fireworks during midsummer bonfires   \n",
       "\n",
       "                     Artist          Date  \\\n",
       "0             Ancient Egypt       3050 BC   \n",
       "1             Ancient Egypt  3100-2900 BC   \n",
       "2             Ancient Egypt       2570 BC   \n",
       "3             Ancient Egypt       3000 BC   \n",
       "4             Ancient Egypt  2060-2010 BC   \n",
       "...                     ...           ...   \n",
       "124165  Alfred Freddy Krupa          2019   \n",
       "124166  Alfred Freddy Krupa          2019   \n",
       "124167  Alfred Freddy Krupa          2019   \n",
       "124168  Alfred Freddy Krupa          2019   \n",
       "124169  Alfred Freddy Krupa          2020   \n",
       "\n",
       "                                                                                                       Link  \n",
       "0                    https://uploads3.wikiart.org/00265/images/ancient-egyptian-painting/narmer-palette.jpg  \n",
       "1       https://uploads2.wikiart.org/00244/images/ancient-egyptian-painting/box-inlay-with-a-geometric-p...  \n",
       "2               https://uploads2.wikiart.org/00305/images/ancient-egyptian-painting/330px-khafre-statue.jpg  \n",
       "3          https://uploads7.wikiart.org/00305/images/ancient-egyptian-painting/louvre-stele-roi-serpent.jpg  \n",
       "4       https://uploads8.wikiart.org/00244/images/ancient-egyptian-painting/laden-donkeys-and-ploughing-...  \n",
       "...                                                                                                     ...  \n",
       "124165                    https://uploads5.wikiart.org/00241/images/alfred-freddy-krupa/wp-20190217-004.jpg  \n",
       "124166                  https://uploads7.wikiart.org/00241/images/alfred-freddy-krupa/wp-20190620-004-1.jpg  \n",
       "124167                  https://uploads7.wikiart.org/00242/images/alfred-freddy-krupa/wp-20190618-002-1.jpg  \n",
       "124168                  https://uploads7.wikiart.org/00248/images/alfred-freddy-krupa/wp-20190805-002-1.jpg  \n",
       "124169                https://uploads5.wikiart.org/00298/images/alfred-freddy-krupa/img-20200623-210532.jpg  \n",
       "\n",
       "[124170 rows x 5 columns]"
      ]
     },
     "execution_count": 133,
     "metadata": {},
     "output_type": "execute_result"
    }
   ],
   "source": [
    "df = pd.read_csv('../data/wikiart_scraped.csv')\n",
    "df"
   ]
  },
  {
   "cell_type": "markdown",
   "id": "11d7c6aa",
   "metadata": {},
   "source": [
    "## Cleaning Data Function"
   ]
  },
  {
   "cell_type": "markdown",
   "id": "8982cb9d",
   "metadata": {},
   "source": [
    "> This function will clean the data by step1, step2, step3. It takes in such and such argument and returns such and such value."
   ]
  },
  {
   "cell_type": "code",
   "execution_count": 134,
   "id": "70394f7a",
   "metadata": {},
   "outputs": [],
   "source": [
    "# Function that takes in Dataframe, returns numeric values for dates\n",
    "def to_date(dataframe):\n",
    "\n",
    "    #This converts all roman numbers to century\n",
    "    dataframe['Date'] = dataframe['Date'].replace(to_replace=['XIX-XX cent.'], value='1800')\n",
    "    dataframe['Date'] = dataframe['Date'].replace(to_replace=['XX cent.'],value='1900')\n",
    "    dataframe['Date'] = dataframe['Date'].replace(to_replace=['XVIII cent.'],value='1700')\n",
    "    dataframe['Date'] = dataframe['Date'].replace(to_replace=['XIX cent.'],value='1800')\n",
    "    dataframe['Date'] = dataframe['Date'].replace(to_replace=['XX-XXI cent.'],value='1900')\n",
    "    dataframe['Date'] = dataframe['Date'].replace(to_replace=['XVI-XVII cent.'],value='1500')\n",
    "    dataframe['Date'] = dataframe['Date'].replace(to_replace=['XV-XVI cent.'],value='1400')\n",
    "    dataframe['Date'] = dataframe['Date'].replace(to_replace=['XVII-XVIII cent.'],value='1600')\n",
    "    dataframe['Date'] = dataframe['Date'].replace(to_replace=['XVI cent.'],value='1500')\n",
    "    dataframe['Date'] = dataframe['Date'].replace(to_replace=['XV cent.'],value='1400')\n",
    "    dataframe['Date'] = dataframe['Date'].replace(to_replace=['XIV-XV cent.'],value='1300')\n",
    "    dataframe['Date'] = dataframe['Date'].replace(to_replace=['XVII cent.'],value='1600')\n",
    "    dataframe['Date'] = dataframe['Date'].replace(to_replace=['XII-XIII cent.'],value='1100')\n",
    "    dataframe['Date'] = dataframe['Date'].replace(to_replace=['X cent.'],value='900')\n",
    "    dataframe['Date'] = dataframe['Date'].replace(to_replace=['XIII-XIV cent.'],value='1200')\n",
    "    dataframe['Date'] = dataframe['Date'].replace(to_replace=['VIII cent.'],value='700')\n",
    "    dataframe['Date'] = dataframe['Date'].replace(to_replace=['VII-VIII cent.'],value='600')\n",
    "    dataframe['Date'] = dataframe['Date'].replace(to_replace=['XIV cent.'],value='1300')\n",
    "    dataframe['Date'] = dataframe['Date'].replace(to_replace=['XI cent.'],value='1000')\n",
    "    dataframe['Date'] = dataframe['Date'].replace(to_replace=['XI-XII cent.'],value='1000')\n",
    "    dataframe['Date'] = dataframe['Date'].replace(to_replace=['XXI cent.'],value='2000')\n",
    "    dataframe['Date'] = dataframe['Date'].replace(to_replace=['XIX-XX cent.'],value='1800')\n",
    "    dataframe['Date'] = dataframe['Date'].replace(to_replace=['XVIII-XIX cent.'],value='1800')\n",
    "    dataframe['Date'] = dataframe['Date'].replace(to_replace=['47'], value='1447')\n",
    "    dataframe['Date'] = dataframe['Date'].replace(to_replace=['48'],value='1448')\n",
    "\n",
    "    ## Hyphen remover\n",
    "    for index, row in dataframe.iterrows():\n",
    "        date_range = row['Date']\n",
    "        for c in date_range:\n",
    "            if c == '-':\n",
    "                val = date_range[:date_range.index(c)]\n",
    "                dataframe.at[index, 'Date'] = (val)\n",
    "                break\n",
    "\n",
    "    #This converts all date's to numeric values\n",
    "    dataframe['Date'] = dataframe['Date'].astype(int)\n",
    "\n",
    "    return dataframe"
   ]
  },
  {
   "cell_type": "code",
   "execution_count": 135,
   "id": "3a13d484",
   "metadata": {},
   "outputs": [],
   "source": [
    "def cleaned_data(dataframe):\n",
    "    \"\"\"\n",
    "    cleaned_data is a function that does blah blah blah and returns blah blah blah\n",
    "    \n",
    "    args: \n",
    "        dataframe: the dataframe that the user wants to clean\n",
    "    \"\"\"\n",
    "    print('Before Cleaning')\n",
    "    print('='*20)\n",
    "    print('Columns')\n",
    "    print(dataframe.columns)\n",
    "    print('_'*20)\n",
    "    print('Dataframe Size')\n",
    "    print(dataframe.shape)\n",
    "    print('_'*20)\n",
    "    print('Dataframe Unique Values')\n",
    "    print(dataframe.nunique())\n",
    "    print('_'*20)\n",
    "    print('Null Values in Each Column')\n",
    "    print(dataframe.isna().sum())\n",
    "    print('_'*20)\n",
    "    print('Data Types in Each Column')\n",
    "    print(dataframe.dtypes)\n",
    "    print('='*20)\n",
    "    \n",
    "    #This drops cuplicates of any work of art to decrease chances of sketches\n",
    "    dataframe = dataframe.drop_duplicates(subset=['Artwork', 'Artist', 'Date'], \n",
    "                       keep='last')\n",
    "    \n",
    "    #This drops any values in the style columns that have less than a count of 500\n",
    "    #So the model can properly train on the style\n",
    "    s = dataframe['Style'].value_counts() > 500\n",
    "    s = list(s[s == True].index)\n",
    "    dataframe = dataframe[dataframe['Style'].isin(s)]\n",
    "    \n",
    "    dataframe = to_date(dataframe)\n",
    "    \n",
    "    print('After Cleaning')\n",
    "    print('='*20)\n",
    "    print('Columns')\n",
    "    print(dataframe.columns)\n",
    "    print('_'*20)\n",
    "    print('Dataframe Size')\n",
    "    print(dataframe.shape)\n",
    "    print('_'*20)\n",
    "    print('Dataframe Unique Values')\n",
    "    print(dataframe.nunique())\n",
    "    print('_'*20)\n",
    "    print('Null Values in Each Column')\n",
    "    print(dataframe.isna().sum())\n",
    "    print('_'*20)\n",
    "    print('Data Types in Each Column')\n",
    "    print(dataframe.dtypes)\n",
    "    print('='*20)\n",
    "    \n",
    "    dataframe.loc[dataframe['Style'].str.lower().str.contains('renaissance'), 'Style'] = 'renaissance'\n",
    "    dataframe.loc[dataframe['Style'].str.lower().str.contains('impressionism'), 'Style'] = 'impressionism'\n",
    "    dataframe.loc[dataframe['Style'].str.lower().str.contains('romanticism'), 'Style'] = 'romanticism'\n",
    "    dataframe.loc[dataframe['Style'].str.contains('Realism'), 'Style'] = 'realism'\n",
    "    dataframe.loc[dataframe['Style'].str.lower().str.contains('expressionism'), 'Style'] = 'expressionism'\n",
    "    dataframe.loc[dataframe['Style'].str.lower().str.contains('impressionism'), 'Style'] = 'impressionism'\n",
    "    dataframe.loc[dataframe['Style'].str.lower().str.contains('abstract'), 'Style'] = 'abstract'\n",
    "    dataframe.loc[dataframe['Style'].str.lower().str.contains('modern'), 'Style'] = 'modern'\n",
    "    dataframe.loc[dataframe['Style'].str.lower().str.contains('primitivism'), 'Style'] = 'primitivism'\n",
    "    \n",
    "    s = dataframe['Style'].value_counts() > 1000\n",
    "    s = list(s[s == True].index)\n",
    "    dataframe = dataframe[dataframe['Style'].isin(s)]\n",
    "    \n",
    "    #returning the dataframe with an index reset\n",
    "    return dataframe.reset_index(drop=True)"
   ]
  },
  {
   "cell_type": "code",
   "execution_count": 136,
   "id": "6185e1c9",
   "metadata": {},
   "outputs": [],
   "source": [
    "def drop_dead_rows(dataframe):\n",
    "\n",
    "    bad_URLs = [\n",
    "    'https://uploads2.wikiart.org/images/henri-rousseau/view-of-the-bridge-at-sevres-and-the-hills-at-clamart-st-cloud-and-bellevue-1908.jpg',\n",
    "    'https://uploads8.wikiart.org/images/jean-arp/abstract-composition.jpg',\n",
    "    'https://uploads2.wikiart.org/images/franz-marc/sleeping-animals-1913.jpg',\n",
    "    'https://uploads5.wikiart.org/images/el-lissitzky/central-park-of-culture-and-leisure-sparrow-hills.jpg',\n",
    "    'https://uploads1.wikiart.org/images/juan-gris/glass-and-carafe-1917.jpg',\n",
    "    'https://uploads6.wikiart.org/images/juan-gris/landscape-at-beaulieu-1918.jpg',\n",
    "    'https://uploads8.wikiart.org/images/pablo-picasso/untitled-1920-2.jpg',\n",
    "    'https://uploads0.wikiart.org/images/juan-gris/the-open-window-1921.jpg',\n",
    "    'https://uploads0.wikiart.org/images/georgia-o-keeffe/special-no-32.jpg'\n",
    "    ]\n",
    "    \n",
    "    dataframe = dataframe.drop(dataframe[dataframe['Link'].isin(bad_URLs)].index)\n",
    "\n",
    "    return dataframe.reset_index(drop=True)\n",
    "\n",
    "df = drop_dead_rows(df)"
   ]
  },
  {
   "cell_type": "code",
   "execution_count": 137,
   "id": "78f669b5",
   "metadata": {},
   "outputs": [],
   "source": [
    "clean_df = drop_dead_rows(df)"
   ]
  },
  {
   "cell_type": "code",
   "execution_count": 138,
   "id": "07cb01a3",
   "metadata": {
    "scrolled": true
   },
   "outputs": [
    {
     "name": "stdout",
     "output_type": "stream",
     "text": [
      "Before Cleaning\n",
      "====================\n",
      "Columns\n",
      "Index(['Style', 'Artwork', 'Artist', 'Date', 'Link'], dtype='object')\n",
      "____________________\n",
      "Dataframe Size\n",
      "(124161, 5)\n",
      "____________________\n",
      "Dataframe Unique Values\n",
      "Style         217\n",
      "Artwork     92044\n",
      "Artist       3052\n",
      "Date         2959\n",
      "Link       116658\n",
      "dtype: int64\n",
      "____________________\n",
      "Null Values in Each Column\n",
      "Style      0\n",
      "Artwork    0\n",
      "Artist     0\n",
      "Date       0\n",
      "Link       0\n",
      "dtype: int64\n",
      "____________________\n",
      "Data Types in Each Column\n",
      "Style      object\n",
      "Artwork    object\n",
      "Artist     object\n",
      "Date       object\n",
      "Link       object\n",
      "dtype: object\n",
      "====================\n",
      "After Cleaning\n",
      "====================\n",
      "Columns\n",
      "Index(['Style', 'Artwork', 'Artist', 'Date', 'Link'], dtype='object')\n",
      "____________________\n",
      "Dataframe Size\n",
      "(89686, 5)\n",
      "____________________\n",
      "Dataframe Unique Values\n",
      "Style         51\n",
      "Artwork    76170\n",
      "Artist      2632\n",
      "Date         621\n",
      "Link       89638\n",
      "dtype: int64\n",
      "____________________\n",
      "Null Values in Each Column\n",
      "Style      0\n",
      "Artwork    0\n",
      "Artist     0\n",
      "Date       0\n",
      "Link       0\n",
      "dtype: int64\n",
      "____________________\n",
      "Data Types in Each Column\n",
      "Style      object\n",
      "Artwork    object\n",
      "Artist     object\n",
      "Date        int32\n",
      "Link       object\n",
      "dtype: object\n",
      "====================\n"
     ]
    }
   ],
   "source": [
    "clean_df = cleaned_data(df)"
   ]
  },
  {
   "cell_type": "code",
   "execution_count": 140,
   "id": "be88e144",
   "metadata": {
    "scrolled": true
   },
   "outputs": [
    {
     "data": {
      "text/plain": [
       "renaissance             8543\n",
       "realism                 8043\n",
       "impressionism           7908\n",
       "expressionism           7783\n",
       "romanticism             4256\n",
       "Baroque                 3312\n",
       "Rococo                  3298\n",
       "Symbolism               3172\n",
       "Neoclassicism           3141\n",
       "Cubism                  3097\n",
       "modern                  3066\n",
       "primitivism             3043\n",
       "Surrealism              2960\n",
       "abstract                2563\n",
       "Academicism             2438\n",
       "Pop-Art                 2361\n",
       "Minimalism              2020\n",
       "Ukiyo-e                 1719\n",
       "Art-Informel            1648\n",
       "Conceptual-Art          1609\n",
       "Color-Field-Painting    1364\n",
       "Orientalism             1324\n",
       "Op-Art                  1105\n",
       "Name: Style, dtype: int64"
      ]
     },
     "execution_count": 140,
     "metadata": {},
     "output_type": "execute_result"
    }
   ],
   "source": [
    "clean_df['Style'].value_counts()"
   ]
  },
  {
   "cell_type": "markdown",
   "id": "a6b59506",
   "metadata": {},
   "source": [
    "Code is clean!"
   ]
  },
  {
   "cell_type": "code",
   "execution_count": 84,
   "id": "0a3868a5",
   "metadata": {},
   "outputs": [],
   "source": [
    "def lang_column(df):\n",
    "    df['Language'] = None\n",
    "    for i in range(0, len(df['Artwork'])):\n",
    "        df['Language'][i] = langid.classify(df['Artwork'][i])[0]    \n",
    "    return df"
   ]
  },
  {
   "cell_type": "code",
   "execution_count": 85,
   "id": "78c387d3",
   "metadata": {
    "collapsed": true
   },
   "outputs": [
    {
     "name": "stderr",
     "output_type": "stream",
     "text": [
      "C:\\Users\\tu\\AppData\\Local\\Temp\\ipykernel_13932\\3544689282.py:4: SettingWithCopyWarning: \n",
      "A value is trying to be set on a copy of a slice from a DataFrame\n",
      "\n",
      "See the caveats in the documentation: https://pandas.pydata.org/pandas-docs/stable/user_guide/indexing.html#returning-a-view-versus-a-copy\n",
      "  df['Language'][i] = langid.classify(df['Artwork'][i])[0]\n"
     ]
    },
    {
     "ename": "KeyboardInterrupt",
     "evalue": "",
     "output_type": "error",
     "traceback": [
      "\u001b[1;31m---------------------------------------------------------------------------\u001b[0m",
      "\u001b[1;31mKeyboardInterrupt\u001b[0m                         Traceback (most recent call last)",
      "Cell \u001b[1;32mIn[85], line 1\u001b[0m\n\u001b[1;32m----> 1\u001b[0m clean_df \u001b[38;5;241m=\u001b[39m \u001b[43mlang_column\u001b[49m\u001b[43m(\u001b[49m\u001b[43mclean_df\u001b[49m\u001b[43m)\u001b[49m\n",
      "Cell \u001b[1;32mIn[84], line 4\u001b[0m, in \u001b[0;36mlang_column\u001b[1;34m(df)\u001b[0m\n\u001b[0;32m      2\u001b[0m df[\u001b[38;5;124m'\u001b[39m\u001b[38;5;124mLanguage\u001b[39m\u001b[38;5;124m'\u001b[39m] \u001b[38;5;241m=\u001b[39m \u001b[38;5;28;01mNone\u001b[39;00m\n\u001b[0;32m      3\u001b[0m \u001b[38;5;28;01mfor\u001b[39;00m i \u001b[38;5;129;01min\u001b[39;00m \u001b[38;5;28mrange\u001b[39m(\u001b[38;5;241m0\u001b[39m, \u001b[38;5;28mlen\u001b[39m(df[\u001b[38;5;124m'\u001b[39m\u001b[38;5;124mArtwork\u001b[39m\u001b[38;5;124m'\u001b[39m])):\n\u001b[1;32m----> 4\u001b[0m     df[\u001b[38;5;124m'\u001b[39m\u001b[38;5;124mLanguage\u001b[39m\u001b[38;5;124m'\u001b[39m][i] \u001b[38;5;241m=\u001b[39m \u001b[43mlangid\u001b[49m\u001b[38;5;241;43m.\u001b[39;49m\u001b[43mclassify\u001b[49m\u001b[43m(\u001b[49m\u001b[43mdf\u001b[49m\u001b[43m[\u001b[49m\u001b[38;5;124;43m'\u001b[39;49m\u001b[38;5;124;43mArtwork\u001b[39;49m\u001b[38;5;124;43m'\u001b[39;49m\u001b[43m]\u001b[49m\u001b[43m[\u001b[49m\u001b[43mi\u001b[49m\u001b[43m]\u001b[49m\u001b[43m)\u001b[49m[\u001b[38;5;241m0\u001b[39m]    \n\u001b[0;32m      5\u001b[0m \u001b[38;5;28;01mreturn\u001b[39;00m df\n",
      "File \u001b[1;32m~\\anaconda3\\lib\\site-packages\\langid\\langid.py:107\u001b[0m, in \u001b[0;36mclassify\u001b[1;34m(instance)\u001b[0m\n\u001b[0;32m    104\u001b[0m \u001b[38;5;28;01mif\u001b[39;00m identifier \u001b[38;5;129;01mis\u001b[39;00m \u001b[38;5;28;01mNone\u001b[39;00m:\n\u001b[0;32m    105\u001b[0m   load_model()\n\u001b[1;32m--> 107\u001b[0m \u001b[38;5;28;01mreturn\u001b[39;00m \u001b[43midentifier\u001b[49m\u001b[38;5;241;43m.\u001b[39;49m\u001b[43mclassify\u001b[49m\u001b[43m(\u001b[49m\u001b[43minstance\u001b[49m\u001b[43m)\u001b[49m\n",
      "File \u001b[1;32m~\\anaconda3\\lib\\site-packages\\langid\\langid.py:295\u001b[0m, in \u001b[0;36mLanguageIdentifier.classify\u001b[1;34m(self, text)\u001b[0m\n\u001b[0;32m    291\u001b[0m \u001b[38;5;250m\u001b[39m\u001b[38;5;124;03m\"\"\"\u001b[39;00m\n\u001b[0;32m    292\u001b[0m \u001b[38;5;124;03mClassify an instance.\u001b[39;00m\n\u001b[0;32m    293\u001b[0m \u001b[38;5;124;03m\"\"\"\u001b[39;00m\n\u001b[0;32m    294\u001b[0m fv \u001b[38;5;241m=\u001b[39m \u001b[38;5;28mself\u001b[39m\u001b[38;5;241m.\u001b[39minstance2fv(text)\n\u001b[1;32m--> 295\u001b[0m probs \u001b[38;5;241m=\u001b[39m \u001b[38;5;28mself\u001b[39m\u001b[38;5;241m.\u001b[39mnorm_probs(\u001b[38;5;28;43mself\u001b[39;49m\u001b[38;5;241;43m.\u001b[39;49m\u001b[43mnb_classprobs\u001b[49m\u001b[43m(\u001b[49m\u001b[43mfv\u001b[49m\u001b[43m)\u001b[49m)\n\u001b[0;32m    296\u001b[0m cl \u001b[38;5;241m=\u001b[39m np\u001b[38;5;241m.\u001b[39margmax(probs)\n\u001b[0;32m    297\u001b[0m conf \u001b[38;5;241m=\u001b[39m \u001b[38;5;28mfloat\u001b[39m(probs[cl])\n",
      "File \u001b[1;32m~\\anaconda3\\lib\\site-packages\\langid\\langid.py:285\u001b[0m, in \u001b[0;36mLanguageIdentifier.nb_classprobs\u001b[1;34m(self, fv)\u001b[0m\n\u001b[0;32m    283\u001b[0m \u001b[38;5;28;01mdef\u001b[39;00m \u001b[38;5;21mnb_classprobs\u001b[39m(\u001b[38;5;28mself\u001b[39m, fv):\n\u001b[0;32m    284\u001b[0m   \u001b[38;5;66;03m# compute the partial log-probability of the document given each class\u001b[39;00m\n\u001b[1;32m--> 285\u001b[0m   pdc \u001b[38;5;241m=\u001b[39m \u001b[43mnp\u001b[49m\u001b[38;5;241;43m.\u001b[39;49m\u001b[43mdot\u001b[49m\u001b[43m(\u001b[49m\u001b[43mfv\u001b[49m\u001b[43m,\u001b[49m\u001b[38;5;28;43mself\u001b[39;49m\u001b[38;5;241;43m.\u001b[39;49m\u001b[43mnb_ptc\u001b[49m\u001b[43m)\u001b[49m\n\u001b[0;32m    286\u001b[0m   \u001b[38;5;66;03m# compute the partial log-probability of the document in each class\u001b[39;00m\n\u001b[0;32m    287\u001b[0m   pd \u001b[38;5;241m=\u001b[39m pdc \u001b[38;5;241m+\u001b[39m \u001b[38;5;28mself\u001b[39m\u001b[38;5;241m.\u001b[39mnb_pc\n",
      "File \u001b[1;32m<__array_function__ internals>:5\u001b[0m, in \u001b[0;36mdot\u001b[1;34m(*args, **kwargs)\u001b[0m\n",
      "\u001b[1;31mKeyboardInterrupt\u001b[0m: "
     ]
    }
   ],
   "source": [
    "clean_df = lang_column(clean_df)"
   ]
  },
  {
   "cell_type": "code",
   "execution_count": null,
   "id": "82dc7609",
   "metadata": {},
   "outputs": [],
   "source": [
    "clean_df.to_csv('../data/clean_art_lang.csv', index = False)"
   ]
  },
  {
   "cell_type": "code",
   "execution_count": null,
   "id": "be80b5bb",
   "metadata": {},
   "outputs": [],
   "source": [
    "# Add columns of translated text\n",
    "def trans_column(clean_df):\n",
    "    translator = Translator()\n",
    "    clean_df['Artwork'] = clean_df['Artwork'].astype(str)\n",
    "    clean_df['translated'] = clean_df.loc[clean_df.Language != 'en']['Artwork'].apply(translator.translate, \n",
    "                                                                                  src='auto', \n",
    "                                                                                  dest='en').apply(getattr, \n",
    "                                                                                                   args=('text',))\n",
    "    return clean_df"
   ]
  },
  {
   "cell_type": "code",
   "execution_count": null,
   "id": "2ced78f0",
   "metadata": {},
   "outputs": [],
   "source": [
    "def split_column_for_trans(clean_df):\n",
    "    clean_df_not_en = clean_df.loc[clean_df.Language != 'en']\n",
    "    bruh = int(clean_df_not_en.shape[0]/10)\n",
    "    clean_df1 = clean_df_not_en.iloc[:bruh]\n",
    "    clean_df2 = clean_df_not_en.iloc[bruh+1:bruh*2]\n",
    "    clean_df3 = clean_df_not_en.iloc[(bruh*2)+1:bruh*3]\n",
    "    clean_df4 = clean_df_not_en.iloc[(bruh*3)+1:bruh*4]\n",
    "    clean_df5 = clean_df_not_en.iloc[(bruh*4)+1:bruh*5]\n",
    "    clean_df6 = clean_df_not_en.iloc[(bruh*5)+1:bruh*6]\n",
    "    clean_df7 = clean_df_not_en.iloc[(bruh*6)+1:bruh*7]\n",
    "    clean_df8 = clean_df_not_en.iloc[(bruh*7)+1:bruh*8]\n",
    "    clean_df9 = clean_df_not_en.iloc[(bruh*8)+1:bruh*9]\n",
    "    clean_df10 = clean_df_not_en.iloc[(bruh*9)+1:]\n",
    "    new_df = pd.concat([clean_df1, clean_df2, clean_df3, clean_df4, clean_df5, clean_df6, clean_df7, clean_df8, clean_df9, clean_df10])\n",
    "    return new_df"
   ]
  },
  {
   "cell_type": "code",
   "execution_count": null,
   "id": "f97aabf8",
   "metadata": {},
   "outputs": [],
   "source": [
    "clean_df1 = trans_column(clean_df1)"
   ]
  },
  {
   "cell_type": "code",
   "execution_count": null,
   "id": "e0016a48",
   "metadata": {},
   "outputs": [],
   "source": [
    "clean_df2 = trans_column(clean_df2)"
   ]
  },
  {
   "cell_type": "code",
   "execution_count": null,
   "id": "4c40f4d9",
   "metadata": {},
   "outputs": [],
   "source": [
    "clean_df3 = trans_column(clean_df3)"
   ]
  },
  {
   "cell_type": "code",
   "execution_count": null,
   "id": "ae403de8",
   "metadata": {},
   "outputs": [],
   "source": [
    "clean_df4 = trans_column(clean_df4)"
   ]
  },
  {
   "cell_type": "code",
   "execution_count": null,
   "id": "7d56f28b",
   "metadata": {},
   "outputs": [],
   "source": [
    "clean_df5 = trans_column(clean_df5)"
   ]
  },
  {
   "cell_type": "code",
   "execution_count": null,
   "id": "3adb82c1",
   "metadata": {},
   "outputs": [],
   "source": [
    "clean_df6 = trans_column(clean_df6)"
   ]
  },
  {
   "cell_type": "code",
   "execution_count": null,
   "id": "a7bc1a9a",
   "metadata": {},
   "outputs": [],
   "source": [
    "clean_df7 = trans_column(clean_df7)"
   ]
  },
  {
   "cell_type": "code",
   "execution_count": null,
   "id": "f392a65b",
   "metadata": {},
   "outputs": [],
   "source": [
    "clean_df8 = trans_column(clean_df8)"
   ]
  },
  {
   "cell_type": "code",
   "execution_count": null,
   "id": "2b5b6ce5",
   "metadata": {},
   "outputs": [],
   "source": [
    "clean_df9 = trans_column(clean_df9)"
   ]
  },
  {
   "cell_type": "code",
   "execution_count": null,
   "id": "4b9dc232",
   "metadata": {},
   "outputs": [],
   "source": [
    "clean_df10 = trans_column(clean_df10)"
   ]
  },
  {
   "cell_type": "code",
   "execution_count": null,
   "id": "c01995d8",
   "metadata": {},
   "outputs": [],
   "source": [
    "new_df = pd.concat([clean_df1, clean_df2, clean_df3, clean_df4, clean_df5, clean_df6, clean_df7, clean_df8, clean_df9, clean_df10])"
   ]
  },
  {
   "cell_type": "code",
   "execution_count": null,
   "id": "6c145a80",
   "metadata": {},
   "outputs": [],
   "source": [
    "clean_df_new = clean_df.loc[clean_df.Language == 'en']"
   ]
  },
  {
   "cell_type": "code",
   "execution_count": null,
   "id": "35b2a216",
   "metadata": {
    "scrolled": true
   },
   "outputs": [],
   "source": [
    "clean_df_new['translated'] = clean_df_new['Artwork']"
   ]
  },
  {
   "cell_type": "code",
   "execution_count": null,
   "id": "cb70f60e",
   "metadata": {},
   "outputs": [],
   "source": [
    "new_df2 = pd.concat([new_df, clean_df_new])"
   ]
  },
  {
   "cell_type": "code",
   "execution_count": null,
   "id": "7b067d28",
   "metadata": {},
   "outputs": [],
   "source": [
    "new_df2.shape"
   ]
  },
  {
   "cell_type": "code",
   "execution_count": null,
   "id": "57df4974",
   "metadata": {},
   "outputs": [],
   "source": [
    "new_df2 = new_df2.drop_duplicates(subset=['Link'])"
   ]
  },
  {
   "cell_type": "code",
   "execution_count": 185,
   "id": "9d413248",
   "metadata": {},
   "outputs": [],
   "source": [
    "new_df2.to_csv('../data/clean_art_trans.csv', index = False)"
   ]
  },
  {
   "cell_type": "code",
   "execution_count": 2,
   "id": "eebacab2",
   "metadata": {
    "collapsed": true
   },
   "outputs": [
    {
     "data": {
      "text/html": [
       "<div>\n",
       "<style scoped>\n",
       "    .dataframe tbody tr th:only-of-type {\n",
       "        vertical-align: middle;\n",
       "    }\n",
       "\n",
       "    .dataframe tbody tr th {\n",
       "        vertical-align: top;\n",
       "    }\n",
       "\n",
       "    .dataframe thead th {\n",
       "        text-align: right;\n",
       "    }\n",
       "</style>\n",
       "<table border=\"1\" class=\"dataframe\">\n",
       "  <thead>\n",
       "    <tr style=\"text-align: right;\">\n",
       "      <th></th>\n",
       "      <th>Style</th>\n",
       "      <th>Artwork</th>\n",
       "      <th>Artist</th>\n",
       "      <th>Date</th>\n",
       "      <th>Link</th>\n",
       "      <th>Language</th>\n",
       "      <th>translated</th>\n",
       "      <th>dom_color</th>\n",
       "      <th>rgbl</th>\n",
       "    </tr>\n",
       "  </thead>\n",
       "  <tbody>\n",
       "    <tr>\n",
       "      <th>0</th>\n",
       "      <td>Early-Renaissance</td>\n",
       "      <td>Virgen Con El Niño</td>\n",
       "      <td>Álvaro Pires de Évora</td>\n",
       "      <td>1447</td>\n",
       "      <td>https://uploads6.wikiart.org/00312/images/alvaro-pires-de-evora/alvaro-pirez-pisa.jpg</td>\n",
       "      <td>es</td>\n",
       "      <td>Madonna and Child</td>\n",
       "      <td>NaN</td>\n",
       "      <td>NaN</td>\n",
       "    </tr>\n",
       "    <tr>\n",
       "      <th>1</th>\n",
       "      <td>Early-Renaissance</td>\n",
       "      <td>A Virgem em Majestade</td>\n",
       "      <td>Álvaro Pires de Évora</td>\n",
       "      <td>1448</td>\n",
       "      <td>https://uploads3.wikiart.org/00312/images/alvaro-pires-de-evora/alvaro-pirez-d-vora-a-virgem-em-...</td>\n",
       "      <td>pt</td>\n",
       "      <td>The Virgin in Majesty</td>\n",
       "      <td>NaN</td>\n",
       "      <td>NaN</td>\n",
       "    </tr>\n",
       "    <tr>\n",
       "      <th>2</th>\n",
       "      <td>Early-Renaissance</td>\n",
       "      <td>Christus Am Ölberg Und Die Marien Am Grabe</td>\n",
       "      <td>Lorenzo Monaco</td>\n",
       "      <td>1408</td>\n",
       "      <td>https://uploads0.wikiart.org/00207/images/lorenzo-monaco/christus-am-lberg-und-die-marien-am-gra...</td>\n",
       "      <td>de</td>\n",
       "      <td>Christ on the Mount of Olives and Mary at the Tomb</td>\n",
       "      <td>NaN</td>\n",
       "      <td>NaN</td>\n",
       "    </tr>\n",
       "    <tr>\n",
       "      <th>3</th>\n",
       "      <td>Early-Renaissance</td>\n",
       "      <td>San Giovanni Evangelista</td>\n",
       "      <td>Donatello</td>\n",
       "      <td>1408</td>\n",
       "      <td>https://uploads8.wikiart.org/00145/images/donatello/800px-sangiovannievangelista.jpg</td>\n",
       "      <td>nl</td>\n",
       "      <td>St. John the Evangelist</td>\n",
       "      <td>NaN</td>\n",
       "      <td>NaN</td>\n",
       "    </tr>\n",
       "    <tr>\n",
       "      <th>4</th>\n",
       "      <td>Early-Renaissance</td>\n",
       "      <td>Annunciation Triptych</td>\n",
       "      <td>Lorenzo Monaco</td>\n",
       "      <td>1410</td>\n",
       "      <td>https://uploads2.wikiart.org/00206/images/lorenzo-monaco/annunciation.jpg</td>\n",
       "      <td>es</td>\n",
       "      <td>Annunciation Triptych</td>\n",
       "      <td>NaN</td>\n",
       "      <td>NaN</td>\n",
       "    </tr>\n",
       "    <tr>\n",
       "      <th>...</th>\n",
       "      <td>...</td>\n",
       "      <td>...</td>\n",
       "      <td>...</td>\n",
       "      <td>...</td>\n",
       "      <td>...</td>\n",
       "      <td>...</td>\n",
       "      <td>...</td>\n",
       "      <td>...</td>\n",
       "      <td>...</td>\n",
       "    </tr>\n",
       "    <tr>\n",
       "      <th>89624</th>\n",
       "      <td>Ukiyo-e</td>\n",
       "      <td>Lucy's Mutation</td>\n",
       "      <td>Takato Yamamoto</td>\n",
       "      <td>2014</td>\n",
       "      <td>https://uploads3.wikiart.org/00147/images/takato-yamamoto/larger-1.jpg</td>\n",
       "      <td>en</td>\n",
       "      <td>Lucy's Mutation</td>\n",
       "      <td>NaN</td>\n",
       "      <td>NaN</td>\n",
       "    </tr>\n",
       "    <tr>\n",
       "      <th>89625</th>\n",
       "      <td>Ukiyo-e</td>\n",
       "      <td>Common Sense</td>\n",
       "      <td>Takato Yamamoto</td>\n",
       "      <td>2014</td>\n",
       "      <td>https://uploads3.wikiart.org/00147/images/takato-yamamoto/larger-9.jpg</td>\n",
       "      <td>en</td>\n",
       "      <td>Common Sense</td>\n",
       "      <td>NaN</td>\n",
       "      <td>NaN</td>\n",
       "    </tr>\n",
       "    <tr>\n",
       "      <th>89626</th>\n",
       "      <td>Ukiyo-e</td>\n",
       "      <td>Sacred Circulation</td>\n",
       "      <td>Takato Yamamoto</td>\n",
       "      <td>2015</td>\n",
       "      <td>https://uploads3.wikiart.org/00147/images/takato-yamamoto/larger-2.jpg</td>\n",
       "      <td>en</td>\n",
       "      <td>Sacred Circulation</td>\n",
       "      <td>NaN</td>\n",
       "      <td>NaN</td>\n",
       "    </tr>\n",
       "    <tr>\n",
       "      <th>89627</th>\n",
       "      <td>Ukiyo-e</td>\n",
       "      <td>Ecstasy of Linked Circles</td>\n",
       "      <td>Takato Yamamoto</td>\n",
       "      <td>2015</td>\n",
       "      <td>https://uploads3.wikiart.org/00147/images/takato-yamamoto/larger-8.jpg</td>\n",
       "      <td>en</td>\n",
       "      <td>Ecstasy of Linked Circles</td>\n",
       "      <td>NaN</td>\n",
       "      <td>NaN</td>\n",
       "    </tr>\n",
       "    <tr>\n",
       "      <th>89628</th>\n",
       "      <td>Ukiyo-e</td>\n",
       "      <td>Chimera Tombstone</td>\n",
       "      <td>Takato Yamamoto</td>\n",
       "      <td>2014</td>\n",
       "      <td>https://uploads4.wikiart.org/00147/images/takato-yamamoto/larger-10.jpg</td>\n",
       "      <td>en</td>\n",
       "      <td>Chimera Tombstone</td>\n",
       "      <td>NaN</td>\n",
       "      <td>NaN</td>\n",
       "    </tr>\n",
       "  </tbody>\n",
       "</table>\n",
       "<p>89629 rows × 9 columns</p>\n",
       "</div>"
      ],
      "text/plain": [
       "                   Style                                     Artwork  \\\n",
       "0      Early-Renaissance                          Virgen Con El Niño   \n",
       "1      Early-Renaissance                       A Virgem em Majestade   \n",
       "2      Early-Renaissance  Christus Am Ölberg Und Die Marien Am Grabe   \n",
       "3      Early-Renaissance                    San Giovanni Evangelista   \n",
       "4      Early-Renaissance                       Annunciation Triptych   \n",
       "...                  ...                                         ...   \n",
       "89624            Ukiyo-e                             Lucy's Mutation   \n",
       "89625            Ukiyo-e                                Common Sense   \n",
       "89626            Ukiyo-e                          Sacred Circulation   \n",
       "89627            Ukiyo-e                   Ecstasy of Linked Circles   \n",
       "89628            Ukiyo-e                           Chimera Tombstone   \n",
       "\n",
       "                      Artist  Date  \\\n",
       "0      Álvaro Pires de Évora  1447   \n",
       "1      Álvaro Pires de Évora  1448   \n",
       "2             Lorenzo Monaco  1408   \n",
       "3                  Donatello  1408   \n",
       "4             Lorenzo Monaco  1410   \n",
       "...                      ...   ...   \n",
       "89624        Takato Yamamoto  2014   \n",
       "89625        Takato Yamamoto  2014   \n",
       "89626        Takato Yamamoto  2015   \n",
       "89627        Takato Yamamoto  2015   \n",
       "89628        Takato Yamamoto  2014   \n",
       "\n",
       "                                                                                                      Link  \\\n",
       "0                    https://uploads6.wikiart.org/00312/images/alvaro-pires-de-evora/alvaro-pirez-pisa.jpg   \n",
       "1      https://uploads3.wikiart.org/00312/images/alvaro-pires-de-evora/alvaro-pirez-d-vora-a-virgem-em-...   \n",
       "2      https://uploads0.wikiart.org/00207/images/lorenzo-monaco/christus-am-lberg-und-die-marien-am-gra...   \n",
       "3                     https://uploads8.wikiart.org/00145/images/donatello/800px-sangiovannievangelista.jpg   \n",
       "4                                https://uploads2.wikiart.org/00206/images/lorenzo-monaco/annunciation.jpg   \n",
       "...                                                                                                    ...   \n",
       "89624                               https://uploads3.wikiart.org/00147/images/takato-yamamoto/larger-1.jpg   \n",
       "89625                               https://uploads3.wikiart.org/00147/images/takato-yamamoto/larger-9.jpg   \n",
       "89626                               https://uploads3.wikiart.org/00147/images/takato-yamamoto/larger-2.jpg   \n",
       "89627                               https://uploads3.wikiart.org/00147/images/takato-yamamoto/larger-8.jpg   \n",
       "89628                              https://uploads4.wikiart.org/00147/images/takato-yamamoto/larger-10.jpg   \n",
       "\n",
       "      Language                                          translated  dom_color  \\\n",
       "0           es                                   Madonna and Child        NaN   \n",
       "1           pt                               The Virgin in Majesty        NaN   \n",
       "2           de  Christ on the Mount of Olives and Mary at the Tomb        NaN   \n",
       "3           nl                             St. John the Evangelist        NaN   \n",
       "4           es                               Annunciation Triptych        NaN   \n",
       "...        ...                                                 ...        ...   \n",
       "89624       en                                     Lucy's Mutation        NaN   \n",
       "89625       en                                        Common Sense        NaN   \n",
       "89626       en                                  Sacred Circulation        NaN   \n",
       "89627       en                           Ecstasy of Linked Circles        NaN   \n",
       "89628       en                                   Chimera Tombstone        NaN   \n",
       "\n",
       "       rgbl  \n",
       "0       NaN  \n",
       "1       NaN  \n",
       "2       NaN  \n",
       "3       NaN  \n",
       "4       NaN  \n",
       "...     ...  \n",
       "89624   NaN  \n",
       "89625   NaN  \n",
       "89626   NaN  \n",
       "89627   NaN  \n",
       "89628   NaN  \n",
       "\n",
       "[89629 rows x 9 columns]"
      ]
     },
     "execution_count": 2,
     "metadata": {},
     "output_type": "execute_result"
    }
   ],
   "source": [
    "new_df2"
   ]
  },
  {
   "cell_type": "code",
   "execution_count": 6,
   "id": "2346c2cd",
   "metadata": {},
   "outputs": [],
   "source": [
    "from __future__ import print_function\n",
    "import binascii\n",
    "import struct\n",
    "from PIL import Image\n",
    "import scipy\n",
    "import scipy.misc\n",
    "import scipy.cluster\n",
    "from scipy.spatial import KDTree\n",
    "from webcolors import CSS3_HEX_TO_NAMES, hex_to_rgb\n",
    "\n",
    "def dom_color(image):\n",
    "    # for loop that grabs each image\n",
    "    NUM_CLUSTERS = 5\n",
    "\n",
    "    # reading image\n",
    "    im = Image.open('../images/' + image, mode='r')\n",
    "    im = im.resize((150, 150))      # optional, to reduce time\n",
    "    ar = np.asarray(im)\n",
    "    shape = ar.shape\n",
    "    ar = ar.reshape(scipy.product(shape[:2]), shape[2]).astype(float)\n",
    "\n",
    "    # finding clusters\n",
    "    codes, dist = scipy.cluster.vq.kmeans(ar, NUM_CLUSTERS)\n",
    "    # print('Top 5 Colors:\\n', codes)\n",
    "\n",
    "    vecs, dist = scipy.cluster.vq.vq(ar, codes)         # assign codes\n",
    "    counts, bins = scipy.histogram(vecs, len(codes))    # count occurrences\n",
    "\n",
    "    index_max = scipy.argmax(counts)                    # find most frequent\n",
    "    peak = codes[index_max]\n",
    "    colour = binascii.hexlify(bytearray(int(c) for c in peak)).decode('ascii')\n",
    "    \n",
    "    # print('Most dominant color: %s (#%s)' % (peak, colour))\n",
    "    # print(colour)\n",
    "    \n",
    "    \n",
    "    peak = tuple(peak)\n",
    "    \n",
    "    # returns top color\n",
    "    def convert_rgb_to_names(peak):\n",
    "    \n",
    "        # a dictionary of all the hex and their respective names in css3\n",
    "        css3_db = CSS3_HEX_TO_NAMES\n",
    "        names = []\n",
    "        rgb_values = []\n",
    "        for color_hex, color_name in css3_db.items():\n",
    "            names.append(color_name)\n",
    "            rgb_values.append(hex_to_rgb(color_hex))\n",
    "    \n",
    "        kdt_db = KDTree(rgb_values)\n",
    "        distance, index = kdt_db.query(peak)\n",
    "        \n",
    "        top_color = names[index]\n",
    "        return top_color\n",
    "    \n",
    "    \n",
    "             \n",
    "    return colour, convert_rgb_to_names(peak)\n",
    "\n",
    "# source: https://medium.com/codex/rgb-to-color-names-in-python-the-robust-way-ec4a9d97a01f\n"
   ]
  },
  {
   "cell_type": "code",
   "execution_count": 7,
   "id": "d255edd8",
   "metadata": {
    "collapsed": true
   },
   "outputs": [
    {
     "name": "stdout",
     "output_type": "stream",
     "text": [
      "CPU times: total: 141 ms\n",
      "Wall time: 149 ms\n"
     ]
    },
    {
     "name": "stderr",
     "output_type": "stream",
     "text": [
      "C:\\Users\\tu\\AppData\\Local\\Temp\\ipykernel_21900\\3861166637.py:20: DeprecationWarning: scipy.product is deprecated and will be removed in SciPy 2.0.0, use numpy.product instead\n",
      "  ar = ar.reshape(scipy.product(shape[:2]), shape[2]).astype(float)\n",
      "C:\\Users\\tu\\AppData\\Local\\Temp\\ipykernel_21900\\3861166637.py:27: DeprecationWarning: scipy.histogram is deprecated and will be removed in SciPy 2.0.0, use numpy.histogram instead\n",
      "  counts, bins = scipy.histogram(vecs, len(codes))    # count occurrences\n",
      "C:\\Users\\tu\\AppData\\Local\\Temp\\ipykernel_21900\\3861166637.py:29: DeprecationWarning: scipy.argmax is deprecated and will be removed in SciPy 2.0.0, use numpy.argmax instead\n",
      "  index_max = scipy.argmax(counts)                    # find most frequent\n"
     ]
    },
    {
     "data": {
      "text/plain": [
       "('1d1c26', 'black')"
      ]
     },
     "execution_count": 7,
     "metadata": {},
     "output_type": "execute_result"
    }
   ],
   "source": [
    "%%time\n",
    "\n",
    "dom_color('../images/image_0.jpg')"
   ]
  },
  {
   "cell_type": "code",
   "execution_count": 151,
   "id": "506e68a5",
   "metadata": {},
   "outputs": [],
   "source": [
    "list_imgs = os.listdir('../images/')\n",
    "new_list_imgs = [\"../images/\" + f for f in list_imgs]"
   ]
  },
  {
   "cell_type": "code",
   "execution_count": 152,
   "id": "f390bab2",
   "metadata": {
    "scrolled": true
   },
   "outputs": [],
   "source": [
    "# split up image folder into 20. \n",
    "chunks = [new_list_imgs[x:x+4500] for x in range(0, len(new_list_imgs), 4500)]"
   ]
  },
  {
   "cell_type": "code",
   "execution_count": 153,
   "id": "c151cc76",
   "metadata": {},
   "outputs": [],
   "source": [
    "def iter_colors(chunk):\n",
    "    # Run function for every image based on 4500 chunks\n",
    "    res0 = [dom_color(i) for i in chunks[chunk]]\n",
    "\n",
    "    # Create DataFrame\n",
    "    test = pd.DataFrame(res0, columns=['Hex', 'Color'])\n",
    "\n",
    "    # Identifies which number the image is\n",
    "    num_list = []\n",
    "    for images in chunks[chunk]:\n",
    "        num = \"\"\n",
    "        for c in images:\n",
    "            if c.isdigit():\n",
    "                num = num + c\n",
    "        num_list.append(int(num))\n",
    "    # Appends num_list values to dataframe\n",
    "    test['Image'] = num_list\n",
    "    \n",
    "    return test"
   ]
  },
  {
   "cell_type": "code",
   "execution_count": 154,
   "id": "05d22aa6",
   "metadata": {
    "collapsed": true
   },
   "outputs": [
    {
     "name": "stderr",
     "output_type": "stream",
     "text": [
      "C:\\Users\\tu\\AppData\\Local\\Temp\\ipykernel_21900\\3861166637.py:20: DeprecationWarning: scipy.product is deprecated and will be removed in SciPy 2.0.0, use numpy.product instead\n",
      "  ar = ar.reshape(scipy.product(shape[:2]), shape[2]).astype(float)\n",
      "C:\\Users\\tu\\AppData\\Local\\Temp\\ipykernel_21900\\3861166637.py:27: DeprecationWarning: scipy.histogram is deprecated and will be removed in SciPy 2.0.0, use numpy.histogram instead\n",
      "  counts, bins = scipy.histogram(vecs, len(codes))    # count occurrences\n",
      "C:\\Users\\tu\\AppData\\Local\\Temp\\ipykernel_21900\\3861166637.py:29: DeprecationWarning: scipy.argmax is deprecated and will be removed in SciPy 2.0.0, use numpy.argmax instead\n",
      "  index_max = scipy.argmax(counts)                    # find most frequent\n"
     ]
    }
   ],
   "source": [
    "chunk0 = iter_colors(0)"
   ]
  },
  {
   "cell_type": "code",
   "execution_count": 155,
   "id": "8b33ecf8",
   "metadata": {
    "collapsed": true
   },
   "outputs": [
    {
     "name": "stderr",
     "output_type": "stream",
     "text": [
      "C:\\Users\\tu\\AppData\\Local\\Temp\\ipykernel_21900\\3861166637.py:20: DeprecationWarning: scipy.product is deprecated and will be removed in SciPy 2.0.0, use numpy.product instead\n",
      "  ar = ar.reshape(scipy.product(shape[:2]), shape[2]).astype(float)\n",
      "C:\\Users\\tu\\AppData\\Local\\Temp\\ipykernel_21900\\3861166637.py:27: DeprecationWarning: scipy.histogram is deprecated and will be removed in SciPy 2.0.0, use numpy.histogram instead\n",
      "  counts, bins = scipy.histogram(vecs, len(codes))    # count occurrences\n",
      "C:\\Users\\tu\\AppData\\Local\\Temp\\ipykernel_21900\\3861166637.py:29: DeprecationWarning: scipy.argmax is deprecated and will be removed in SciPy 2.0.0, use numpy.argmax instead\n",
      "  index_max = scipy.argmax(counts)                    # find most frequent\n"
     ]
    }
   ],
   "source": [
    "chunk1 = iter_colors(1)"
   ]
  },
  {
   "cell_type": "code",
   "execution_count": 156,
   "id": "1a29abe9",
   "metadata": {
    "collapsed": true
   },
   "outputs": [
    {
     "name": "stderr",
     "output_type": "stream",
     "text": [
      "C:\\Users\\tu\\AppData\\Local\\Temp\\ipykernel_21900\\3861166637.py:20: DeprecationWarning: scipy.product is deprecated and will be removed in SciPy 2.0.0, use numpy.product instead\n",
      "  ar = ar.reshape(scipy.product(shape[:2]), shape[2]).astype(float)\n",
      "C:\\Users\\tu\\AppData\\Local\\Temp\\ipykernel_21900\\3861166637.py:27: DeprecationWarning: scipy.histogram is deprecated and will be removed in SciPy 2.0.0, use numpy.histogram instead\n",
      "  counts, bins = scipy.histogram(vecs, len(codes))    # count occurrences\n",
      "C:\\Users\\tu\\AppData\\Local\\Temp\\ipykernel_21900\\3861166637.py:29: DeprecationWarning: scipy.argmax is deprecated and will be removed in SciPy 2.0.0, use numpy.argmax instead\n",
      "  index_max = scipy.argmax(counts)                    # find most frequent\n"
     ]
    }
   ],
   "source": [
    "chunk2 = iter_colors(2)"
   ]
  },
  {
   "cell_type": "code",
   "execution_count": 157,
   "id": "3f93c64b",
   "metadata": {
    "collapsed": true
   },
   "outputs": [
    {
     "name": "stderr",
     "output_type": "stream",
     "text": [
      "C:\\Users\\tu\\AppData\\Local\\Temp\\ipykernel_21900\\3861166637.py:20: DeprecationWarning: scipy.product is deprecated and will be removed in SciPy 2.0.0, use numpy.product instead\n",
      "  ar = ar.reshape(scipy.product(shape[:2]), shape[2]).astype(float)\n",
      "C:\\Users\\tu\\AppData\\Local\\Temp\\ipykernel_21900\\3861166637.py:27: DeprecationWarning: scipy.histogram is deprecated and will be removed in SciPy 2.0.0, use numpy.histogram instead\n",
      "  counts, bins = scipy.histogram(vecs, len(codes))    # count occurrences\n",
      "C:\\Users\\tu\\AppData\\Local\\Temp\\ipykernel_21900\\3861166637.py:29: DeprecationWarning: scipy.argmax is deprecated and will be removed in SciPy 2.0.0, use numpy.argmax instead\n",
      "  index_max = scipy.argmax(counts)                    # find most frequent\n"
     ]
    }
   ],
   "source": [
    "chunk3 = iter_colors(3)"
   ]
  },
  {
   "cell_type": "code",
   "execution_count": 158,
   "id": "5bbff8e5",
   "metadata": {
    "collapsed": true
   },
   "outputs": [
    {
     "name": "stderr",
     "output_type": "stream",
     "text": [
      "C:\\Users\\tu\\AppData\\Local\\Temp\\ipykernel_21900\\3861166637.py:20: DeprecationWarning: scipy.product is deprecated and will be removed in SciPy 2.0.0, use numpy.product instead\n",
      "  ar = ar.reshape(scipy.product(shape[:2]), shape[2]).astype(float)\n",
      "C:\\Users\\tu\\AppData\\Local\\Temp\\ipykernel_21900\\3861166637.py:27: DeprecationWarning: scipy.histogram is deprecated and will be removed in SciPy 2.0.0, use numpy.histogram instead\n",
      "  counts, bins = scipy.histogram(vecs, len(codes))    # count occurrences\n",
      "C:\\Users\\tu\\AppData\\Local\\Temp\\ipykernel_21900\\3861166637.py:29: DeprecationWarning: scipy.argmax is deprecated and will be removed in SciPy 2.0.0, use numpy.argmax instead\n",
      "  index_max = scipy.argmax(counts)                    # find most frequent\n"
     ]
    }
   ],
   "source": [
    "chunk4 = iter_colors(4)"
   ]
  },
  {
   "cell_type": "code",
   "execution_count": 159,
   "id": "c10b40d9",
   "metadata": {
    "collapsed": true
   },
   "outputs": [
    {
     "name": "stderr",
     "output_type": "stream",
     "text": [
      "C:\\Users\\tu\\AppData\\Local\\Temp\\ipykernel_21900\\3861166637.py:20: DeprecationWarning: scipy.product is deprecated and will be removed in SciPy 2.0.0, use numpy.product instead\n",
      "  ar = ar.reshape(scipy.product(shape[:2]), shape[2]).astype(float)\n",
      "C:\\Users\\tu\\AppData\\Local\\Temp\\ipykernel_21900\\3861166637.py:27: DeprecationWarning: scipy.histogram is deprecated and will be removed in SciPy 2.0.0, use numpy.histogram instead\n",
      "  counts, bins = scipy.histogram(vecs, len(codes))    # count occurrences\n",
      "C:\\Users\\tu\\AppData\\Local\\Temp\\ipykernel_21900\\3861166637.py:29: DeprecationWarning: scipy.argmax is deprecated and will be removed in SciPy 2.0.0, use numpy.argmax instead\n",
      "  index_max = scipy.argmax(counts)                    # find most frequent\n"
     ]
    }
   ],
   "source": [
    "chunk5 = iter_colors(5)"
   ]
  },
  {
   "cell_type": "code",
   "execution_count": 160,
   "id": "b211abad",
   "metadata": {
    "collapsed": true
   },
   "outputs": [
    {
     "name": "stderr",
     "output_type": "stream",
     "text": [
      "C:\\Users\\tu\\AppData\\Local\\Temp\\ipykernel_21900\\3861166637.py:20: DeprecationWarning: scipy.product is deprecated and will be removed in SciPy 2.0.0, use numpy.product instead\n",
      "  ar = ar.reshape(scipy.product(shape[:2]), shape[2]).astype(float)\n",
      "C:\\Users\\tu\\AppData\\Local\\Temp\\ipykernel_21900\\3861166637.py:27: DeprecationWarning: scipy.histogram is deprecated and will be removed in SciPy 2.0.0, use numpy.histogram instead\n",
      "  counts, bins = scipy.histogram(vecs, len(codes))    # count occurrences\n",
      "C:\\Users\\tu\\AppData\\Local\\Temp\\ipykernel_21900\\3861166637.py:29: DeprecationWarning: scipy.argmax is deprecated and will be removed in SciPy 2.0.0, use numpy.argmax instead\n",
      "  index_max = scipy.argmax(counts)                    # find most frequent\n"
     ]
    }
   ],
   "source": [
    "chunk6 = iter_colors(6)"
   ]
  },
  {
   "cell_type": "code",
   "execution_count": 161,
   "id": "48d2025f",
   "metadata": {
    "collapsed": true
   },
   "outputs": [
    {
     "name": "stderr",
     "output_type": "stream",
     "text": [
      "C:\\Users\\tu\\AppData\\Local\\Temp\\ipykernel_21900\\3861166637.py:20: DeprecationWarning: scipy.product is deprecated and will be removed in SciPy 2.0.0, use numpy.product instead\n",
      "  ar = ar.reshape(scipy.product(shape[:2]), shape[2]).astype(float)\n",
      "C:\\Users\\tu\\AppData\\Local\\Temp\\ipykernel_21900\\3861166637.py:27: DeprecationWarning: scipy.histogram is deprecated and will be removed in SciPy 2.0.0, use numpy.histogram instead\n",
      "  counts, bins = scipy.histogram(vecs, len(codes))    # count occurrences\n",
      "C:\\Users\\tu\\AppData\\Local\\Temp\\ipykernel_21900\\3861166637.py:29: DeprecationWarning: scipy.argmax is deprecated and will be removed in SciPy 2.0.0, use numpy.argmax instead\n",
      "  index_max = scipy.argmax(counts)                    # find most frequent\n"
     ]
    }
   ],
   "source": [
    "chunk7 = iter_colors(7)"
   ]
  },
  {
   "cell_type": "code",
   "execution_count": 162,
   "id": "848fd44c",
   "metadata": {
    "collapsed": true
   },
   "outputs": [
    {
     "name": "stderr",
     "output_type": "stream",
     "text": [
      "C:\\Users\\tu\\AppData\\Local\\Temp\\ipykernel_21900\\3861166637.py:20: DeprecationWarning: scipy.product is deprecated and will be removed in SciPy 2.0.0, use numpy.product instead\n",
      "  ar = ar.reshape(scipy.product(shape[:2]), shape[2]).astype(float)\n",
      "C:\\Users\\tu\\AppData\\Local\\Temp\\ipykernel_21900\\3861166637.py:27: DeprecationWarning: scipy.histogram is deprecated and will be removed in SciPy 2.0.0, use numpy.histogram instead\n",
      "  counts, bins = scipy.histogram(vecs, len(codes))    # count occurrences\n",
      "C:\\Users\\tu\\AppData\\Local\\Temp\\ipykernel_21900\\3861166637.py:29: DeprecationWarning: scipy.argmax is deprecated and will be removed in SciPy 2.0.0, use numpy.argmax instead\n",
      "  index_max = scipy.argmax(counts)                    # find most frequent\n"
     ]
    }
   ],
   "source": [
    "chunk8 = iter_colors(8)"
   ]
  },
  {
   "cell_type": "code",
   "execution_count": 163,
   "id": "35b4e93d",
   "metadata": {
    "collapsed": true
   },
   "outputs": [
    {
     "name": "stderr",
     "output_type": "stream",
     "text": [
      "C:\\Users\\tu\\AppData\\Local\\Temp\\ipykernel_21900\\3861166637.py:20: DeprecationWarning: scipy.product is deprecated and will be removed in SciPy 2.0.0, use numpy.product instead\n",
      "  ar = ar.reshape(scipy.product(shape[:2]), shape[2]).astype(float)\n",
      "C:\\Users\\tu\\AppData\\Local\\Temp\\ipykernel_21900\\3861166637.py:27: DeprecationWarning: scipy.histogram is deprecated and will be removed in SciPy 2.0.0, use numpy.histogram instead\n",
      "  counts, bins = scipy.histogram(vecs, len(codes))    # count occurrences\n",
      "C:\\Users\\tu\\AppData\\Local\\Temp\\ipykernel_21900\\3861166637.py:29: DeprecationWarning: scipy.argmax is deprecated and will be removed in SciPy 2.0.0, use numpy.argmax instead\n",
      "  index_max = scipy.argmax(counts)                    # find most frequent\n"
     ]
    }
   ],
   "source": [
    "chunk9 = iter_colors(9)"
   ]
  },
  {
   "cell_type": "code",
   "execution_count": 164,
   "id": "96cd1ddb",
   "metadata": {
    "collapsed": true
   },
   "outputs": [
    {
     "name": "stderr",
     "output_type": "stream",
     "text": [
      "C:\\Users\\tu\\AppData\\Local\\Temp\\ipykernel_21900\\3861166637.py:20: DeprecationWarning: scipy.product is deprecated and will be removed in SciPy 2.0.0, use numpy.product instead\n",
      "  ar = ar.reshape(scipy.product(shape[:2]), shape[2]).astype(float)\n",
      "C:\\Users\\tu\\AppData\\Local\\Temp\\ipykernel_21900\\3861166637.py:27: DeprecationWarning: scipy.histogram is deprecated and will be removed in SciPy 2.0.0, use numpy.histogram instead\n",
      "  counts, bins = scipy.histogram(vecs, len(codes))    # count occurrences\n",
      "C:\\Users\\tu\\AppData\\Local\\Temp\\ipykernel_21900\\3861166637.py:29: DeprecationWarning: scipy.argmax is deprecated and will be removed in SciPy 2.0.0, use numpy.argmax instead\n",
      "  index_max = scipy.argmax(counts)                    # find most frequent\n"
     ]
    }
   ],
   "source": [
    "chunk10 = iter_colors(10)"
   ]
  },
  {
   "cell_type": "code",
   "execution_count": 165,
   "id": "9e036cd8",
   "metadata": {
    "collapsed": true
   },
   "outputs": [
    {
     "name": "stderr",
     "output_type": "stream",
     "text": [
      "C:\\Users\\tu\\AppData\\Local\\Temp\\ipykernel_21900\\3861166637.py:20: DeprecationWarning: scipy.product is deprecated and will be removed in SciPy 2.0.0, use numpy.product instead\n",
      "  ar = ar.reshape(scipy.product(shape[:2]), shape[2]).astype(float)\n",
      "C:\\Users\\tu\\AppData\\Local\\Temp\\ipykernel_21900\\3861166637.py:27: DeprecationWarning: scipy.histogram is deprecated and will be removed in SciPy 2.0.0, use numpy.histogram instead\n",
      "  counts, bins = scipy.histogram(vecs, len(codes))    # count occurrences\n",
      "C:\\Users\\tu\\AppData\\Local\\Temp\\ipykernel_21900\\3861166637.py:29: DeprecationWarning: scipy.argmax is deprecated and will be removed in SciPy 2.0.0, use numpy.argmax instead\n",
      "  index_max = scipy.argmax(counts)                    # find most frequent\n"
     ]
    }
   ],
   "source": [
    "chunk11 = iter_colors(11)"
   ]
  },
  {
   "cell_type": "code",
   "execution_count": 166,
   "id": "211b7083",
   "metadata": {
    "collapsed": true
   },
   "outputs": [
    {
     "name": "stderr",
     "output_type": "stream",
     "text": [
      "C:\\Users\\tu\\AppData\\Local\\Temp\\ipykernel_21900\\3861166637.py:20: DeprecationWarning: scipy.product is deprecated and will be removed in SciPy 2.0.0, use numpy.product instead\n",
      "  ar = ar.reshape(scipy.product(shape[:2]), shape[2]).astype(float)\n",
      "C:\\Users\\tu\\AppData\\Local\\Temp\\ipykernel_21900\\3861166637.py:27: DeprecationWarning: scipy.histogram is deprecated and will be removed in SciPy 2.0.0, use numpy.histogram instead\n",
      "  counts, bins = scipy.histogram(vecs, len(codes))    # count occurrences\n",
      "C:\\Users\\tu\\AppData\\Local\\Temp\\ipykernel_21900\\3861166637.py:29: DeprecationWarning: scipy.argmax is deprecated and will be removed in SciPy 2.0.0, use numpy.argmax instead\n",
      "  index_max = scipy.argmax(counts)                    # find most frequent\n"
     ]
    }
   ],
   "source": [
    "chunk12 = iter_colors(12)"
   ]
  },
  {
   "cell_type": "code",
   "execution_count": 167,
   "id": "8655349d",
   "metadata": {
    "collapsed": true
   },
   "outputs": [
    {
     "name": "stderr",
     "output_type": "stream",
     "text": [
      "C:\\Users\\tu\\AppData\\Local\\Temp\\ipykernel_21900\\3861166637.py:20: DeprecationWarning: scipy.product is deprecated and will be removed in SciPy 2.0.0, use numpy.product instead\n",
      "  ar = ar.reshape(scipy.product(shape[:2]), shape[2]).astype(float)\n",
      "C:\\Users\\tu\\AppData\\Local\\Temp\\ipykernel_21900\\3861166637.py:27: DeprecationWarning: scipy.histogram is deprecated and will be removed in SciPy 2.0.0, use numpy.histogram instead\n",
      "  counts, bins = scipy.histogram(vecs, len(codes))    # count occurrences\n",
      "C:\\Users\\tu\\AppData\\Local\\Temp\\ipykernel_21900\\3861166637.py:29: DeprecationWarning: scipy.argmax is deprecated and will be removed in SciPy 2.0.0, use numpy.argmax instead\n",
      "  index_max = scipy.argmax(counts)                    # find most frequent\n"
     ]
    }
   ],
   "source": [
    "chunk13 = iter_colors(13)"
   ]
  },
  {
   "cell_type": "code",
   "execution_count": 168,
   "id": "a81645cc",
   "metadata": {
    "collapsed": true
   },
   "outputs": [
    {
     "name": "stderr",
     "output_type": "stream",
     "text": [
      "C:\\Users\\tu\\AppData\\Local\\Temp\\ipykernel_21900\\3861166637.py:20: DeprecationWarning: scipy.product is deprecated and will be removed in SciPy 2.0.0, use numpy.product instead\n",
      "  ar = ar.reshape(scipy.product(shape[:2]), shape[2]).astype(float)\n",
      "C:\\Users\\tu\\AppData\\Local\\Temp\\ipykernel_21900\\3861166637.py:27: DeprecationWarning: scipy.histogram is deprecated and will be removed in SciPy 2.0.0, use numpy.histogram instead\n",
      "  counts, bins = scipy.histogram(vecs, len(codes))    # count occurrences\n",
      "C:\\Users\\tu\\AppData\\Local\\Temp\\ipykernel_21900\\3861166637.py:29: DeprecationWarning: scipy.argmax is deprecated and will be removed in SciPy 2.0.0, use numpy.argmax instead\n",
      "  index_max = scipy.argmax(counts)                    # find most frequent\n"
     ]
    }
   ],
   "source": [
    "chunk14 = iter_colors(14)"
   ]
  },
  {
   "cell_type": "code",
   "execution_count": 169,
   "id": "2be29e7a",
   "metadata": {
    "collapsed": true
   },
   "outputs": [
    {
     "name": "stderr",
     "output_type": "stream",
     "text": [
      "C:\\Users\\tu\\AppData\\Local\\Temp\\ipykernel_21900\\3861166637.py:20: DeprecationWarning: scipy.product is deprecated and will be removed in SciPy 2.0.0, use numpy.product instead\n",
      "  ar = ar.reshape(scipy.product(shape[:2]), shape[2]).astype(float)\n",
      "C:\\Users\\tu\\AppData\\Local\\Temp\\ipykernel_21900\\3861166637.py:27: DeprecationWarning: scipy.histogram is deprecated and will be removed in SciPy 2.0.0, use numpy.histogram instead\n",
      "  counts, bins = scipy.histogram(vecs, len(codes))    # count occurrences\n",
      "C:\\Users\\tu\\AppData\\Local\\Temp\\ipykernel_21900\\3861166637.py:29: DeprecationWarning: scipy.argmax is deprecated and will be removed in SciPy 2.0.0, use numpy.argmax instead\n",
      "  index_max = scipy.argmax(counts)                    # find most frequent\n"
     ]
    }
   ],
   "source": [
    "chunk15 = iter_colors(15)"
   ]
  },
  {
   "cell_type": "code",
   "execution_count": 170,
   "id": "943a5998",
   "metadata": {
    "collapsed": true
   },
   "outputs": [
    {
     "name": "stderr",
     "output_type": "stream",
     "text": [
      "C:\\Users\\tu\\AppData\\Local\\Temp\\ipykernel_21900\\3861166637.py:20: DeprecationWarning: scipy.product is deprecated and will be removed in SciPy 2.0.0, use numpy.product instead\n",
      "  ar = ar.reshape(scipy.product(shape[:2]), shape[2]).astype(float)\n",
      "C:\\Users\\tu\\AppData\\Local\\Temp\\ipykernel_21900\\3861166637.py:27: DeprecationWarning: scipy.histogram is deprecated and will be removed in SciPy 2.0.0, use numpy.histogram instead\n",
      "  counts, bins = scipy.histogram(vecs, len(codes))    # count occurrences\n",
      "C:\\Users\\tu\\AppData\\Local\\Temp\\ipykernel_21900\\3861166637.py:29: DeprecationWarning: scipy.argmax is deprecated and will be removed in SciPy 2.0.0, use numpy.argmax instead\n",
      "  index_max = scipy.argmax(counts)                    # find most frequent\n"
     ]
    }
   ],
   "source": [
    "chunk16 = iter_colors(16)"
   ]
  },
  {
   "cell_type": "code",
   "execution_count": 171,
   "id": "4de3fe1c",
   "metadata": {
    "collapsed": true
   },
   "outputs": [
    {
     "name": "stderr",
     "output_type": "stream",
     "text": [
      "C:\\Users\\tu\\AppData\\Local\\Temp\\ipykernel_21900\\3861166637.py:20: DeprecationWarning: scipy.product is deprecated and will be removed in SciPy 2.0.0, use numpy.product instead\n",
      "  ar = ar.reshape(scipy.product(shape[:2]), shape[2]).astype(float)\n",
      "C:\\Users\\tu\\AppData\\Local\\Temp\\ipykernel_21900\\3861166637.py:27: DeprecationWarning: scipy.histogram is deprecated and will be removed in SciPy 2.0.0, use numpy.histogram instead\n",
      "  counts, bins = scipy.histogram(vecs, len(codes))    # count occurrences\n",
      "C:\\Users\\tu\\AppData\\Local\\Temp\\ipykernel_21900\\3861166637.py:29: DeprecationWarning: scipy.argmax is deprecated and will be removed in SciPy 2.0.0, use numpy.argmax instead\n",
      "  index_max = scipy.argmax(counts)                    # find most frequent\n"
     ]
    }
   ],
   "source": [
    "chunk17 = iter_colors(17)"
   ]
  },
  {
   "cell_type": "code",
   "execution_count": 172,
   "id": "c4b902db",
   "metadata": {
    "collapsed": true
   },
   "outputs": [
    {
     "name": "stderr",
     "output_type": "stream",
     "text": [
      "C:\\Users\\tu\\AppData\\Local\\Temp\\ipykernel_21900\\3861166637.py:20: DeprecationWarning: scipy.product is deprecated and will be removed in SciPy 2.0.0, use numpy.product instead\n",
      "  ar = ar.reshape(scipy.product(shape[:2]), shape[2]).astype(float)\n",
      "C:\\Users\\tu\\AppData\\Local\\Temp\\ipykernel_21900\\3861166637.py:27: DeprecationWarning: scipy.histogram is deprecated and will be removed in SciPy 2.0.0, use numpy.histogram instead\n",
      "  counts, bins = scipy.histogram(vecs, len(codes))    # count occurrences\n",
      "C:\\Users\\tu\\AppData\\Local\\Temp\\ipykernel_21900\\3861166637.py:29: DeprecationWarning: scipy.argmax is deprecated and will be removed in SciPy 2.0.0, use numpy.argmax instead\n",
      "  index_max = scipy.argmax(counts)                    # find most frequent\n"
     ]
    }
   ],
   "source": [
    "chunk18 = iter_colors(18)"
   ]
  },
  {
   "cell_type": "code",
   "execution_count": 173,
   "id": "f41c3fac",
   "metadata": {
    "collapsed": true
   },
   "outputs": [
    {
     "name": "stderr",
     "output_type": "stream",
     "text": [
      "C:\\Users\\tu\\AppData\\Local\\Temp\\ipykernel_21900\\3861166637.py:20: DeprecationWarning: scipy.product is deprecated and will be removed in SciPy 2.0.0, use numpy.product instead\n",
      "  ar = ar.reshape(scipy.product(shape[:2]), shape[2]).astype(float)\n",
      "C:\\Users\\tu\\AppData\\Local\\Temp\\ipykernel_21900\\3861166637.py:27: DeprecationWarning: scipy.histogram is deprecated and will be removed in SciPy 2.0.0, use numpy.histogram instead\n",
      "  counts, bins = scipy.histogram(vecs, len(codes))    # count occurrences\n",
      "C:\\Users\\tu\\AppData\\Local\\Temp\\ipykernel_21900\\3861166637.py:29: DeprecationWarning: scipy.argmax is deprecated and will be removed in SciPy 2.0.0, use numpy.argmax instead\n",
      "  index_max = scipy.argmax(counts)                    # find most frequent\n"
     ]
    }
   ],
   "source": [
    "chunk19 = iter_colors(19)"
   ]
  },
  {
   "cell_type": "code",
   "execution_count": 218,
   "id": "fc3375b5",
   "metadata": {},
   "outputs": [],
   "source": [
    "chunky_df = pd.concat([chunk0, \n",
    "                      chunk1,\n",
    "                      chunk2,\n",
    "                      chunk3,\n",
    "                      chunk4,\n",
    "                      chunk5,\n",
    "                      chunk6,\n",
    "                      chunk7,\n",
    "                      chunk8,\n",
    "                      chunk9,\n",
    "                      chunk10,\n",
    "                      chunk11,\n",
    "                      chunk12,\n",
    "                      chunk13,\n",
    "                      chunk14,\n",
    "                      chunk15,\n",
    "                      chunk16,\n",
    "                      chunk17,\n",
    "                       chunk18,\n",
    "                       chunk19])"
   ]
  },
  {
   "cell_type": "code",
   "execution_count": 219,
   "id": "35d5f32f",
   "metadata": {},
   "outputs": [],
   "source": [
    "chunky_df = chunky_df.set_index('Image')"
   ]
  },
  {
   "cell_type": "code",
   "execution_count": 220,
   "id": "58c31a43",
   "metadata": {},
   "outputs": [],
   "source": [
    "chunky_df.sort_index(inplace = True)"
   ]
  },
  {
   "cell_type": "code",
   "execution_count": 221,
   "id": "e4d21e66",
   "metadata": {},
   "outputs": [],
   "source": [
    "brand_new_df = clean_df.join(chunky_df, how='left')\n",
    "brand_new_df.dropna(inplace=True)"
   ]
  },
  {
   "cell_type": "code",
   "execution_count": 8,
   "id": "a9703ec4",
   "metadata": {},
   "outputs": [],
   "source": [
    "clean_df['hex'] = None\n",
    "clean_df['color'] = None\n",
    "\n",
    "# iterate over files in that directory\n",
    "def iter_files(chunks):\n",
    "    for images in chunks:\n",
    "        print(images)\n",
    "        num = \"\"\n",
    "        for c in images:\n",
    "            if c.isdigit():\n",
    "                num = num + c\n",
    "        num = int(num)\n",
    "        # applies dominant color function\n",
    "        dom_color(images)    \n",
    "        # assigns dominant color hex to new column based on index\n",
    "        clean_df['hex'][num] = dom_color(images)[0]\n",
    "        clean_df['color'][num] = dom_color(images)[1]\n",
    "        print(dom_color(images))\n",
    "        print('---' *5)\n",
    "    return clean_df"
   ]
  },
  {
   "cell_type": "code",
   "execution_count": 3,
   "id": "8045dcdf",
   "metadata": {},
   "outputs": [],
   "source": [
    "color_df = pd.read_csv('../data/color_column.csv')\n",
    "trans_df = pd.read_csv('../data/clean_art_trans.csv')\n",
    "dfinal = color_df.merge(trans_df, on=\"Link\", how = 'inner')\n",
    "dfinal = dfinal.drop(columns=['Style_x', 'Artwork_x', 'Artist_x', 'Date_x', 'dom_color', 'rgbl'], inplace=True)\n",
    "dfinal.columns = ['link', 'hex', 'color', 'style', 'artwork', 'artist', 'date', 'language', 'translated']\n",
    "dfinal = dfinal[['artwork', 'style', 'artist', 'date', 'link', 'hex', 'color', 'language', 'translated']]\n",
    "dfinal.to_csv('../data/final_df.csv', index = False)"
   ]
  },
  {
   "cell_type": "markdown",
   "id": "82ba891a",
   "metadata": {},
   "source": [
    "## Saving the Cleaned Dataframe"
   ]
  },
  {
   "cell_type": "markdown",
   "id": "2bc33b0a",
   "metadata": {},
   "source": [
    "> We save the data as blah blah so that in later notebooks it can be used for eda and modeling prurposes much easier."
   ]
  },
  {
   "cell_type": "code",
   "execution_count": 16,
   "id": "1d98f2c4",
   "metadata": {},
   "outputs": [],
   "source": [
    "clean_df.to_csv('../data/clean_art.csv', index = False)"
   ]
  },
  {
   "cell_type": "code",
   "execution_count": 223,
   "id": "4c4217a1",
   "metadata": {},
   "outputs": [],
   "source": [
    "brand_new_df.to_csv('../data/color_column.csv', index = False)"
   ]
  },
  {
   "cell_type": "code",
   "execution_count": null,
   "id": "bddc67bc",
   "metadata": {},
   "outputs": [],
   "source": []
  },
  {
   "cell_type": "code",
   "execution_count": null,
   "id": "175c22dc",
   "metadata": {},
   "outputs": [],
   "source": []
  }
 ],
 "metadata": {
  "kernelspec": {
   "display_name": "Python 3 (ipykernel)",
   "language": "python",
   "name": "python3"
  },
  "language_info": {
   "codemirror_mode": {
    "name": "ipython",
    "version": 3
   },
   "file_extension": ".py",
   "mimetype": "text/x-python",
   "name": "python",
   "nbconvert_exporter": "python",
   "pygments_lexer": "ipython3",
   "version": "3.9.13"
  }
 },
 "nbformat": 4,
 "nbformat_minor": 5
}
